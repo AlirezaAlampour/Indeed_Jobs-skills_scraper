{
 "cells": [
  {
   "cell_type": "code",
   "execution_count": 20,
   "id": "changing-approach",
   "metadata": {},
   "outputs": [],
   "source": [
    "import csv\n",
    "import re\n",
    "from datetime import datetime\n",
    "import requests\n",
    "from bs4 import BeautifulSoup"
   ]
  },
  {
   "cell_type": "code",
   "execution_count": null,
   "id": "respiratory-techno",
   "metadata": {},
   "outputs": [],
   "source": []
  },
  {
   "cell_type": "code",
   "execution_count": 2,
   "id": "spanish-sphere",
   "metadata": {},
   "outputs": [],
   "source": [
    "def get_url(position,location,date):\n",
    "#     \"\"\"\"Generate a url from position and location \"\"\"\"\n",
    "    template = 'https://www.indeed.com/jobs?q={}&l={}&fromage={}'\n",
    "    url = template.format(position,location,date)\n",
    "    return url"
   ]
  },
  {
   "cell_type": "code",
   "execution_count": 3,
   "id": "acoustic-magnitude",
   "metadata": {},
   "outputs": [],
   "source": [
    "url = get_url('software','california','7')"
   ]
  },
  {
   "cell_type": "markdown",
   "id": "ambient-intent",
   "metadata": {},
   "source": [
    "## Extract raw html"
   ]
  },
  {
   "cell_type": "code",
   "execution_count": 4,
   "id": "violent-tragedy",
   "metadata": {},
   "outputs": [],
   "source": [
    "response = requests.get(url)"
   ]
  },
  {
   "cell_type": "code",
   "execution_count": 5,
   "id": "olive-bronze",
   "metadata": {},
   "outputs": [
    {
     "data": {
      "text/plain": [
       "<Response [200]>"
      ]
     },
     "execution_count": 5,
     "metadata": {},
     "output_type": "execute_result"
    }
   ],
   "source": [
    "response #test"
   ]
  },
  {
   "cell_type": "code",
   "execution_count": 6,
   "id": "traditional-windows",
   "metadata": {},
   "outputs": [
    {
     "data": {
      "text/plain": [
       "'OK'"
      ]
     },
     "execution_count": 6,
     "metadata": {},
     "output_type": "execute_result"
    }
   ],
   "source": [
    "response.reason #test "
   ]
  },
  {
   "cell_type": "code",
   "execution_count": 7,
   "id": "reasonable-salmon",
   "metadata": {},
   "outputs": [],
   "source": [
    "soup = BeautifulSoup(response.text, 'html.parser')"
   ]
  },
  {
   "cell_type": "code",
   "execution_count": 10,
   "id": "handed-lounge",
   "metadata": {},
   "outputs": [],
   "source": [
    "cards = soup.find_all('div', 'jobsearch-SerpJobCard')\n",
    "details_cards = []"
   ]
  },
  {
   "cell_type": "code",
   "execution_count": 11,
   "id": "collected-bride",
   "metadata": {},
   "outputs": [
    {
     "data": {
      "text/plain": [
       "15"
      ]
     },
     "execution_count": 11,
     "metadata": {},
     "output_type": "execute_result"
    }
   ],
   "source": [
    "len(cards) #test"
   ]
  },
  {
   "cell_type": "code",
   "execution_count": 12,
   "id": "killing-joining",
   "metadata": {},
   "outputs": [],
   "source": [
    "def get_details_url(url,advn,vjk):\n",
    "#     \"\"\"\"Generate a details url from original url \"\"\"\"\n",
    "    template = url + '&advn={}&vjk={}'\n",
    "    details_url = template.format(adv,vjk)\n",
    "    return details_url"
   ]
  },
  {
   "cell_type": "code",
   "execution_count": 51,
   "id": "polar-worth",
   "metadata": {},
   "outputs": [
    {
     "ename": "AttributeError",
     "evalue": "'dict' object has no attribute 'find'",
     "output_type": "error",
     "traceback": [
      "\u001b[1;31m---------------------------------------------------------------------------\u001b[0m",
      "\u001b[1;31mAttributeError\u001b[0m                            Traceback (most recent call last)",
      "\u001b[1;32m<ipython-input-51-c3f885d64236>\u001b[0m in \u001b[0;36m<module>\u001b[1;34m\u001b[0m\n\u001b[0;32m      3\u001b[0m \u001b[1;31m# print(advn)\u001b[0m\u001b[1;33m\u001b[0m\u001b[1;33m\u001b[0m\u001b[1;33m\u001b[0m\u001b[0m\n\u001b[0;32m      4\u001b[0m \u001b[0mshow\u001b[0m \u001b[1;33m=\u001b[0m \u001b[0mcards\u001b[0m\u001b[1;33m[\u001b[0m\u001b[1;36m0\u001b[0m\u001b[1;33m]\u001b[0m\u001b[1;33m.\u001b[0m\u001b[0mattrs\u001b[0m\u001b[1;33m\u001b[0m\u001b[1;33m\u001b[0m\u001b[0m\n\u001b[1;32m----> 5\u001b[1;33m \u001b[0melement\u001b[0m \u001b[1;33m=\u001b[0m \u001b[0mshow\u001b[0m\u001b[1;33m.\u001b[0m\u001b[0mfind\u001b[0m\u001b[1;33m(\u001b[0m\u001b[0mre\u001b[0m\u001b[1;33m,\u001b[0m\u001b[1;34m\"data-jk\"\u001b[0m\u001b[1;33m)\u001b[0m\u001b[1;33m\u001b[0m\u001b[1;33m\u001b[0m\u001b[0m\n\u001b[0m\u001b[0;32m      6\u001b[0m \u001b[0mprint\u001b[0m\u001b[1;33m(\u001b[0m\u001b[0melement\u001b[0m\u001b[1;33m)\u001b[0m\u001b[1;33m\u001b[0m\u001b[1;33m\u001b[0m\u001b[0m\n",
      "\u001b[1;31mAttributeError\u001b[0m: 'dict' object has no attribute 'find'"
     ]
    }
   ],
   "source": [
    "# advn = BeautifulSoup(cards[0],'html.parser')\n",
    "# advn.div['data-jk']\n",
    "# print(advn)\n",
    "show = cards[0].attrs\n",
    "element = show.find(re,\"data-jk\")\n",
    "print(element)"
   ]
  },
  {
   "cell_type": "code",
   "execution_count": 34,
   "id": "patent-voice",
   "metadata": {},
   "outputs": [],
   "source": [
    "# advnlist = []\n",
    "# vjklist =[]\n",
    "# subs = 'data-jk='\n",
    "# res = [i for i in cards if subs in i]\n",
    "# # element = re.search('data-jk',cards.toString)\n",
    "# print(str(res))\n",
    "# # advnlist.append(cards)\n",
    "# # print(cards[0])\n",
    "# show = cards[0].find(re,\"^data-jk\")\n",
    "# print(show)\n"
   ]
  },
  {
   "cell_type": "code",
   "execution_count": null,
   "id": "novel-basketball",
   "metadata": {},
   "outputs": [],
   "source": [
    "for x in cards\n",
    "    advn = soup.find('div','data-empn')\n",
    "    vjk = soup.find('div', 'data-jk')\n",
    "    details_url = get_details_url(url,advn,vjk) #append and find new Url\n",
    "    response = requests.get(details_url) \n",
    "    response.reason #test\n",
    "    details_soup = BeautifulSoup(response.text,'html.parser')\n",
    "    \n",
    "    details_cards.append(soup.find('div','jobsearch-JobComponent-embeddedBody'))  #find details of this job\n",
    "    len(details_cards) #test\n",
    "    for x in cards\n",
    "    "
   ]
  }
 ],
 "metadata": {
  "kernelspec": {
   "display_name": "Python 3",
   "language": "python",
   "name": "python3"
  },
  "language_info": {
   "codemirror_mode": {
    "name": "ipython",
    "version": 3
   },
   "file_extension": ".py",
   "mimetype": "text/x-python",
   "name": "python",
   "nbconvert_exporter": "python",
   "pygments_lexer": "ipython3",
   "version": "3.8.7"
  }
 },
 "nbformat": 4,
 "nbformat_minor": 5
}
