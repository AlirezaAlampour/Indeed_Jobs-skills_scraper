{
 "cells": [
  {
   "cell_type": "code",
   "execution_count": 1,
   "id": "changing-approach",
   "metadata": {},
   "outputs": [],
   "source": [
    "import csv\n",
    "import re\n",
    "from datetime import datetime\n",
    "import requests\n",
    "from bs4 import BeautifulSoup\n",
    "from urllib.parse import urljoin\n",
    "from selenium import webdriver\n",
    "from selenium.webdriver.common.keys import Keys\n",
    "from requests_html import HTMLSession\n",
    "import nest_asyncio"
   ]
  },
  {
   "cell_type": "code",
   "execution_count": 2,
   "id": "metric-quantity",
   "metadata": {},
   "outputs": [],
   "source": [
    "frameworks = ['Frontend','Mobile','Backend','Software-Engineering/OOP','Data Science', 'Low Level',\n",
    "              'Databases','Cloud Computing','AI / ML','Testing/Utility', 'Animation'] \n",
    "\n",
    "skill_lst_pattern = ['Java','C#','Python','ReactJS','VueJS','AngularJS','React','Vue','Angular','CSS','HTML',\n",
    "              'nodeJS','JS','PHP','node.js','mongoDB','MongoDB','SQL','NoSQL','ARM','Assembly','Arduino',\n",
    "              'Raspberry Pi','Pi','GraphQL','Aws','AWS','Cloud','Automation','Testing','Unit Testing',\n",
    "              'Integration Testing','CMS','Maven','Kotlin','Headless','iOS','IOS','Android','Flutter','Linux','Server',\n",
    "              'Data Processing','Data Cleaning','Data Mining','Data Science','Docker','PostgreSQL','Typescript','Restful',\n",
    "              'API','Ruby','Ruby on Rails','ES6','ES5','Json','Android Studio','React Native','Azure','UI/UX','UI','UX',\n",
    "              'Gatsby','Go','Golang','Dart','Javascript','JavaScript','Cuda','Unix','Gpu','GPU','Big Data','ASP',\n",
    "              'Asp.net','Objective-C','Objective C','Animation','Graphics','Perl','Laravel','XML','Swift','Scala',\n",
    "              'Rust','Jquery','JQuery','Bootstrap','Git','Github','MVC','AI','ML','Machine Learning','Artificial Intelligence'\n",
    "              ]\n",
    "\n",
    "skill_dict = {} #Initialize our dictionary with frameworks as keys and empty lists as values\n",
    "job_desc = [] #list containing all descriptions\n",
    "for i in frameworks:\n",
    "    skill_dict[i] = []\n",
    "\n"
   ]
  },
  {
   "cell_type": "markdown",
   "id": "dedicated-glenn",
   "metadata": {},
   "source": [
    "## Generate a url with our input parameters"
   ]
  },
  {
   "cell_type": "code",
   "execution_count": 3,
   "id": "spanish-sphere",
   "metadata": {},
   "outputs": [],
   "source": [
    "def get_url(position,location,date):\n",
    "    template = 'https://www.indeed.com/jobs?q={}&l={}&fromage={}'\n",
    "    url = template.format(position,location,date)\n",
    "    return url"
   ]
  },
  {
   "cell_type": "markdown",
   "id": "linear-voltage",
   "metadata": {},
   "source": [
    "## Generate full description url from first url"
   ]
  },
  {
   "cell_type": "code",
   "execution_count": 4,
   "id": "weird-airline",
   "metadata": {},
   "outputs": [],
   "source": [
    "def get_details_url(url,advn,vjk):\n",
    "    template = url + '&advn={}&vjk={}'\n",
    "    details_url = template.format(advn,vjk)\n",
    "    return details_url"
   ]
  },
  {
   "cell_type": "code",
   "execution_count": 5,
   "id": "applicable-beads",
   "metadata": {},
   "outputs": [],
   "source": [
    "def main (position, location, date, count):\n",
    "    \n",
    "    url = get_url(position,location,date)\n",
    "    \n",
    "    while count>0:\n",
    "        response = requests.get(url)\n",
    "        soup = BeautifulSoup(response.text, 'html.parser')\n",
    "        cards = soup.find_all('div', 'jobsearch-SerpJobCard')\n",
    "        length = len(cards)\n",
    "        \n",
    "        for x in range(length):\n",
    "            advn = cards[x].get('data-empn')\n",
    "            vjk = cards[x].get('data-jk')\n",
    "            details_url = get_details_url(url,advn,vjk) # Generate Url containing full description of jobs\n",
    "\n",
    "            #Open and load page using webdriver so we can get parse elements that load after our initial request\n",
    "\n",
    "            browser = webdriver.Chrome(r'C:\\Program Files (x86)\\Google\\Chrome\\Application\\chromedriver.exe')  \n",
    "            browser.get(details_url)\n",
    "            htmlSource = browser.page_source\n",
    "            txt = BeautifulSoup(htmlSource, 'html.parser')\n",
    "            browser.close()\n",
    "            job_desc.append(txt.find('div','jobsearch-jobDescriptionText'))  #Append the full description of the job to our list\n",
    "            print(details_url)\n",
    "\n",
    "        try:\n",
    "            url = 'https://www.indeed.com' + soup.find('a',{'aria-label': 'Next'}).get('href')\n",
    "        except AttributeError:\n",
    "            break\n",
    "        count-= 1\n",
    "    \n"
   ]
  },
  {
   "cell_type": "code",
   "execution_count": 6,
   "id": "pregnant-inside",
   "metadata": {
    "scrolled": true
   },
   "outputs": [
    {
     "name": "stdout",
     "output_type": "stream",
     "text": [
      "https://www.indeed.com/jobs?q=Software Engineer&l=Los Angeles&fromage=3&advn=3252320746217577&vjk=3116cbc726600eb6\n",
      "https://www.indeed.com/jobs?q=Software Engineer&l=Los Angeles&fromage=3&advn=2139463119375065&vjk=b9134a3a617e664a\n",
      "https://www.indeed.com/jobs?q=Software Engineer&l=Los Angeles&fromage=3&advn=4407846845847026&vjk=d0110cf4d5d93716\n",
      "https://www.indeed.com/jobs?q=Software Engineer&l=Los Angeles&fromage=3&advn=2139463119375065&vjk=29e7a801b2a7f3a5\n",
      "https://www.indeed.com/jobs?q=Software Engineer&l=Los Angeles&fromage=3&advn=None&vjk=220c62c454831df6\n",
      "https://www.indeed.com/jobs?q=Software Engineer&l=Los Angeles&fromage=3&advn=None&vjk=c9f6594e6f2c5e13\n",
      "https://www.indeed.com/jobs?q=Software Engineer&l=Los Angeles&fromage=3&advn=None&vjk=bf53b3cdc95441d7\n",
      "https://www.indeed.com/jobs?q=Software Engineer&l=Los Angeles&fromage=3&advn=None&vjk=41868554636bc716\n",
      "https://www.indeed.com/jobs?q=Software Engineer&l=Los Angeles&fromage=3&advn=None&vjk=7290dfd840b35c5a\n",
      "https://www.indeed.com/jobs?q=Software Engineer&l=Los Angeles&fromage=3&advn=None&vjk=0eeb5fc873475c84\n",
      "https://www.indeed.com/jobs?q=Software Engineer&l=Los Angeles&fromage=3&advn=None&vjk=9ff1c3fdf8b70897\n",
      "https://www.indeed.com/jobs?q=Software Engineer&l=Los Angeles&fromage=3&advn=None&vjk=dccccbdcad2043ee\n",
      "https://www.indeed.com/jobs?q=Software Engineer&l=Los Angeles&fromage=3&advn=None&vjk=8c7f6c280a079722\n",
      "https://www.indeed.com/jobs?q=Software Engineer&l=Los Angeles&fromage=3&advn=None&vjk=9e74e043e5c7b8bb\n",
      "https://www.indeed.com/jobs?q=Software Engineer&l=Los Angeles&fromage=3&advn=None&vjk=e6bcd90fcc81fde9\n",
      "https://www.indeed.com/jobs?q=Software+Engineer&l=Los+Angeles&fromage=3&start=10&advn=None&vjk=e6bcd90fcc81fde9\n",
      "https://www.indeed.com/jobs?q=Software+Engineer&l=Los+Angeles&fromage=3&start=10&advn=None&vjk=9fcd53174c01ca39\n",
      "https://www.indeed.com/jobs?q=Software+Engineer&l=Los+Angeles&fromage=3&start=10&advn=None&vjk=5ab2cdae74a81fcb\n",
      "https://www.indeed.com/jobs?q=Software+Engineer&l=Los+Angeles&fromage=3&start=10&advn=None&vjk=3e5caf63b4a095c5\n",
      "https://www.indeed.com/jobs?q=Software+Engineer&l=Los+Angeles&fromage=3&start=10&advn=None&vjk=eed06a4f43326cfc\n",
      "https://www.indeed.com/jobs?q=Software+Engineer&l=Los+Angeles&fromage=3&start=10&advn=None&vjk=1ede4d1e6bb24b1a\n",
      "https://www.indeed.com/jobs?q=Software+Engineer&l=Los+Angeles&fromage=3&start=10&advn=None&vjk=d45d4dcef9c9a8e4\n",
      "https://www.indeed.com/jobs?q=Software+Engineer&l=Los+Angeles&fromage=3&start=10&advn=None&vjk=97d5954f07bf907f\n",
      "https://www.indeed.com/jobs?q=Software+Engineer&l=Los+Angeles&fromage=3&start=10&advn=None&vjk=f1f55c392781efd3\n",
      "https://www.indeed.com/jobs?q=Software+Engineer&l=Los+Angeles&fromage=3&start=10&advn=None&vjk=a81941714a1a52e3\n",
      "https://www.indeed.com/jobs?q=Software+Engineer&l=Los+Angeles&fromage=3&start=10&advn=None&vjk=557379f279953275\n",
      "https://www.indeed.com/jobs?q=Software+Engineer&l=Los+Angeles&fromage=3&start=10&advn=None&vjk=20b9a7172f7d16ea\n",
      "https://www.indeed.com/jobs?q=Software+Engineer&l=Los+Angeles&fromage=3&start=10&advn=None&vjk=682f6ff60a3baa54\n",
      "https://www.indeed.com/jobs?q=Software+Engineer&l=Los+Angeles&fromage=3&start=10&advn=None&vjk=9c25d283297beeb8\n",
      "https://www.indeed.com/jobs?q=Software+Engineer&l=Los+Angeles&fromage=3&start=10&advn=None&vjk=8fd23972228632f0\n",
      "https://www.indeed.com/jobs?q=Software+Engineer&l=Los+Angeles&fromage=3&start=20&advn=None&vjk=4eaf69f140f00d20\n",
      "https://www.indeed.com/jobs?q=Software+Engineer&l=Los+Angeles&fromage=3&start=20&advn=None&vjk=9c25d283297beeb8\n",
      "https://www.indeed.com/jobs?q=Software+Engineer&l=Los+Angeles&fromage=3&start=20&advn=None&vjk=bfb6a11a0af5a746\n",
      "https://www.indeed.com/jobs?q=Software+Engineer&l=Los+Angeles&fromage=3&start=20&advn=None&vjk=705da83de8e92858\n",
      "https://www.indeed.com/jobs?q=Software+Engineer&l=Los+Angeles&fromage=3&start=20&advn=None&vjk=3265a17ad9d364af\n",
      "https://www.indeed.com/jobs?q=Software+Engineer&l=Los+Angeles&fromage=3&start=20&advn=None&vjk=7ade2ad6c32bf7bc\n",
      "https://www.indeed.com/jobs?q=Software+Engineer&l=Los+Angeles&fromage=3&start=20&advn=None&vjk=66255f2e4f590677\n",
      "https://www.indeed.com/jobs?q=Software+Engineer&l=Los+Angeles&fromage=3&start=20&advn=None&vjk=1f1461a0ad42605f\n",
      "https://www.indeed.com/jobs?q=Software+Engineer&l=Los+Angeles&fromage=3&start=20&advn=None&vjk=2ee1efbc2ad57dbd\n",
      "https://www.indeed.com/jobs?q=Software+Engineer&l=Los+Angeles&fromage=3&start=20&advn=None&vjk=f3a2956697a88c8f\n",
      "https://www.indeed.com/jobs?q=Software+Engineer&l=Los+Angeles&fromage=3&start=20&advn=None&vjk=8fd23972228632f0\n",
      "https://www.indeed.com/jobs?q=Software+Engineer&l=Los+Angeles&fromage=3&start=20&advn=None&vjk=8265ef8e57dcd022\n",
      "https://www.indeed.com/jobs?q=Software+Engineer&l=Los+Angeles&fromage=3&start=20&advn=None&vjk=2407d5cf30471c84\n",
      "https://www.indeed.com/jobs?q=Software+Engineer&l=Los+Angeles&fromage=3&start=20&advn=None&vjk=a4039f0c5bffe388\n",
      "https://www.indeed.com/jobs?q=Software+Engineer&l=Los+Angeles&fromage=3&start=20&advn=None&vjk=a06c0d61182fc1d1\n",
      "https://www.indeed.com/jobs?q=Software+Engineer&l=Los+Angeles&fromage=3&start=30&advn=None&vjk=8265ef8e57dcd022\n",
      "https://www.indeed.com/jobs?q=Software+Engineer&l=Los+Angeles&fromage=3&start=30&advn=None&vjk=bfb6a11a0af5a746\n",
      "https://www.indeed.com/jobs?q=Software+Engineer&l=Los+Angeles&fromage=3&start=30&advn=None&vjk=f3a2956697a88c8f\n",
      "https://www.indeed.com/jobs?q=Software+Engineer&l=Los+Angeles&fromage=3&start=30&advn=None&vjk=705da83de8e92858\n",
      "https://www.indeed.com/jobs?q=Software+Engineer&l=Los+Angeles&fromage=3&start=30&advn=None&vjk=2407d5cf30471c84\n",
      "https://www.indeed.com/jobs?q=Software+Engineer&l=Los+Angeles&fromage=3&start=30&advn=None&vjk=c9bfb96a988d0b97\n",
      "https://www.indeed.com/jobs?q=Software+Engineer&l=Los+Angeles&fromage=3&start=30&advn=None&vjk=c6e5e29a3de14204\n",
      "https://www.indeed.com/jobs?q=Software+Engineer&l=Los+Angeles&fromage=3&start=30&advn=None&vjk=3265a17ad9d364af\n",
      "https://www.indeed.com/jobs?q=Software+Engineer&l=Los+Angeles&fromage=3&start=30&advn=None&vjk=d8d82274f9fe1caf\n",
      "https://www.indeed.com/jobs?q=Software+Engineer&l=Los+Angeles&fromage=3&start=30&advn=None&vjk=c6895d092f55809a\n",
      "https://www.indeed.com/jobs?q=Software+Engineer&l=Los+Angeles&fromage=3&start=30&advn=None&vjk=e497f793383eb9cf\n",
      "https://www.indeed.com/jobs?q=Software+Engineer&l=Los+Angeles&fromage=3&start=30&advn=None&vjk=743fe780f0995341\n",
      "https://www.indeed.com/jobs?q=Software+Engineer&l=Los+Angeles&fromage=3&start=30&advn=None&vjk=c78c8bdcb918da9a\n",
      "https://www.indeed.com/jobs?q=Software+Engineer&l=Los+Angeles&fromage=3&start=30&advn=None&vjk=5c796f96e5e2fa3d\n",
      "https://www.indeed.com/jobs?q=Software+Engineer&l=Los+Angeles&fromage=3&start=30&advn=None&vjk=028c0e8e62f52324\n",
      "https://www.indeed.com/jobs?q=Software+Engineer&l=Los+Angeles&fromage=3&start=40&advn=None&vjk=d1753e713ad87da6\n",
      "https://www.indeed.com/jobs?q=Software+Engineer&l=Los+Angeles&fromage=3&start=40&advn=None&vjk=aa14d60d8d1da9a3\n",
      "https://www.indeed.com/jobs?q=Software+Engineer&l=Los+Angeles&fromage=3&start=40&advn=None&vjk=027bcb1578f83284\n",
      "https://www.indeed.com/jobs?q=Software+Engineer&l=Los+Angeles&fromage=3&start=40&advn=None&vjk=c8aa1c3e58b44bcb\n",
      "https://www.indeed.com/jobs?q=Software+Engineer&l=Los+Angeles&fromage=3&start=40&advn=None&vjk=28123720f9fe0c08\n",
      "https://www.indeed.com/jobs?q=Software+Engineer&l=Los+Angeles&fromage=3&start=40&advn=None&vjk=9e600afff1bbcc49\n",
      "https://www.indeed.com/jobs?q=Software+Engineer&l=Los+Angeles&fromage=3&start=40&advn=None&vjk=9aca997938553bb1\n",
      "https://www.indeed.com/jobs?q=Software+Engineer&l=Los+Angeles&fromage=3&start=40&advn=None&vjk=83c65102ffb02672\n",
      "https://www.indeed.com/jobs?q=Software+Engineer&l=Los+Angeles&fromage=3&start=40&advn=None&vjk=083d1a2039121cc7\n",
      "https://www.indeed.com/jobs?q=Software+Engineer&l=Los+Angeles&fromage=3&start=40&advn=None&vjk=528d7e36d26c1e58\n",
      "https://www.indeed.com/jobs?q=Software+Engineer&l=Los+Angeles&fromage=3&start=40&advn=None&vjk=50d9af6fff40c211\n",
      "https://www.indeed.com/jobs?q=Software+Engineer&l=Los+Angeles&fromage=3&start=40&advn=None&vjk=f43e78960d78d226\n",
      "https://www.indeed.com/jobs?q=Software+Engineer&l=Los+Angeles&fromage=3&start=40&advn=None&vjk=88712047f6d18893\n",
      "https://www.indeed.com/jobs?q=Software+Engineer&l=Los+Angeles&fromage=3&start=40&advn=None&vjk=813414e418c5735a\n"
     ]
    },
    {
     "name": "stdout",
     "output_type": "stream",
     "text": [
      "https://www.indeed.com/jobs?q=Software+Engineer&l=Los+Angeles&fromage=3&start=40&advn=None&vjk=14febcd5de6f6a06\n"
     ]
    }
   ],
   "source": [
    "main('Software Engineer', 'Los Angeles', 3 , 5)"
   ]
  },
  {
   "cell_type": "code",
   "execution_count": 7,
   "id": "violent-tragedy",
   "metadata": {},
   "outputs": [],
   "source": [
    "# ###### Getting all the jobs cards to find their IDs for full desc.\n",
    "# response = requests.get(url)\n",
    "# soup = BeautifulSoup(response.text, 'html.parser')\n",
    "# cards = soup.find_all('div', 'jobsearch-SerpJobCard') "
   ]
  },
  {
   "cell_type": "code",
   "execution_count": 8,
   "id": "public-diary",
   "metadata": {},
   "outputs": [],
   "source": [
    "# ##### Loop thru all the jobs and gather descriptions\n",
    "\n",
    "# job_desc = [] #list containing all descriptions\n",
    "# length = len(cards)\n",
    "# for x in range(length):\n",
    "#     advn = cards[x].get('data-empn')\n",
    "#     vjk = cards[x].get('data-jk')\n",
    "#     details_url = get_details_url(url,advn,vjk) #append and generate new Url\n",
    "\n",
    "#     #Open and load page using webdriver so we can get parse elements that load after our initial request\n",
    "    \n",
    "#     browser = webdriver.Chrome(r'C:\\Program Files (x86)\\Google\\Chrome\\Application\\chromedriver.exe')  \n",
    "#     browser.get(details_url)\n",
    "#     htmlSource = browser.page_source\n",
    "#     txt = BeautifulSoup(htmlSource, 'html.parser')\n",
    "#     browser.close()\n",
    "#     job_desc.append(txt.find('div','jobsearch-jobDescriptionText'))  #Append the full description of the job to our list\n",
    "#     job_desc.append('#---------------------------------------------------------------------------------------------------#')\n",
    "#     print(details_url)\n",
    "#     job_desc.append('#---------------------------------------------------------------------------------------------------#')\n",
    "        \n",
    "# # print(job_desc) \n",
    "    "
   ]
  },
  {
   "cell_type": "code",
   "execution_count": 9,
   "id": "canadian-packet",
   "metadata": {},
   "outputs": [],
   "source": [
    "# import nltk\n",
    "# from nltk.tokenize import sent_tokenize, word_tokenize\n",
    "# from nltk.corpus import PlaintextCorpusReader\n",
    "# string1 = ''.join(map(str,job_desc))   \n",
    "# cleanText = nltk.Text(nltk.word_tokenize(string1))\n",
    "# # corp = PlaintextCorpusReader(job_desc)\n",
    "# # cleanText = nltk.Text(corp.words())\n",
    "# match = cleanText.concordance('Java')\n",
    "# match2 = cleanText.concordance('ReactJS')\n",
    "# string2 = ''.join(map(str,job_desc))\n",
    "# print(match)\n",
    "# print(match2)\n",
    "# if 'at' in listOfStrings :"
   ]
  },
  {
   "cell_type": "code",
   "execution_count": 13,
   "id": "sophisticated-narrow",
   "metadata": {},
   "outputs": [],
   "source": [
    "\n",
    "cleantxt = ''.join(map(str,job_desc))\n",
    "x = \"s C++ C/C++ and .net and .Net and node.js and Java and UI/UX and C and C++ and C/C++s and node.js and . and c capital\"\n",
    "match1 = (re.findall(r\"(?=(\"+'|'.join(skill_lst_pattern)+r\"))\", cleantxt)) # Matches our list of skills\n",
    "match2 = (re.findall(\"\\.Net|C\\/C\\+\\+|\\.net|node\\.js|Node\\.js|ASP\\.Net |C\\+\\+|C\\ \", cleantxt)) # Matches C/C++ and C and .net etc ...\n",
    "skill_lst = match1+match2 # Final result of both our regex matches\n",
    "# print(skill_lst)\n"
   ]
  },
  {
   "cell_type": "code",
   "execution_count": 14,
   "id": "unavailable-mentor",
   "metadata": {},
   "outputs": [
    {
     "name": "stdout",
     "output_type": "stream",
     "text": [
      "Java\n",
      "70\n"
     ]
    },
    {
     "data": {
      "text/plain": [
       "790"
      ]
     },
     "execution_count": 14,
     "metadata": {},
     "output_type": "execute_result"
    }
   ],
   "source": [
    "count = 0\n",
    "num = skill_lst[0]\n",
    "counter = 0\n",
    "for i in skill_lst:\n",
    "#     if(i == 'JS' or i == 'React' or i == 'Angular' or i == 'Vue' or i == 'Node.js'):\n",
    "    if(i == 'Java'):\n",
    "        counter+=1\n",
    "    curr_freq = skill_lst.count(i)\n",
    "    if(curr_freq> count):\n",
    "        count = curr_freq\n",
    "        num = i\n",
    "\n",
    "print(num)\n",
    "print(counter)\n",
    "len(skill_lst)"
   ]
  },
  {
   "cell_type": "code",
   "execution_count": null,
   "id": "neither-level",
   "metadata": {},
   "outputs": [],
   "source": [
    "\n"
   ]
  }
 ],
 "metadata": {
  "kernelspec": {
   "display_name": "Python 3",
   "language": "python",
   "name": "python3"
  },
  "language_info": {
   "codemirror_mode": {
    "name": "ipython",
    "version": 3
   },
   "file_extension": ".py",
   "mimetype": "text/x-python",
   "name": "python",
   "nbconvert_exporter": "python",
   "pygments_lexer": "ipython3",
   "version": "3.8.7"
  }
 },
 "nbformat": 4,
 "nbformat_minor": 5
}
